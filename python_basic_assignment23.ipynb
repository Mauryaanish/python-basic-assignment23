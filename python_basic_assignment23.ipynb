{
  "nbformat": 4,
  "nbformat_minor": 0,
  "metadata": {
    "colab": {
      "provenance": []
    },
    "kernelspec": {
      "name": "python3",
      "display_name": "Python 3"
    },
    "language_info": {
      "name": "python"
    }
  },
  "cells": [
    {
      "cell_type": "markdown",
      "source": [
        "1. What is the result of the code, and why?\n",
        "&gt;&gt;&gt; def func(a, b=6, c=8):\n",
        "print(a, b, c)\n",
        "&gt;&gt;&gt; func(1, 2)"
      ],
      "metadata": {
        "id": "iUiD7w9A3lxF"
      }
    },
    {
      "cell_type": "code",
      "source": [
        "def func(a, b=6, c=8):\n",
        "    print(a, b, c)\n",
        "func(1, 2)\n",
        "\n",
        "# Ans. This funtion is taking a positional argument and 2 keyward argument. When function call m=is made, parameter passed \n",
        "  # are a=1,b=2. When the function is executed , parameter c=8 will be taken by default as its a keyword argument.\n",
        "   # solution is = 1,2,8"
      ],
      "metadata": {
        "colab": {
          "base_uri": "https://localhost:8080/"
        },
        "id": "qVvcjtoX3mhW",
        "outputId": "e0812300-f545-4151-afd6-67fa8aa74325"
      },
      "execution_count": 21,
      "outputs": [
        {
          "output_type": "stream",
          "name": "stdout",
          "text": [
            "1 2 8\n"
          ]
        }
      ]
    },
    {
      "cell_type": "code",
      "source": [],
      "metadata": {
        "id": "BCcdxaqB3tTD"
      },
      "execution_count": null,
      "outputs": []
    },
    {
      "cell_type": "markdown",
      "source": [
        "2. What is the result of this code, and why?\n",
        "&gt;&gt;&gt; def func(a, b, c=5):\n",
        "print(a, b, c)\n",
        "&gt;&gt;&gt; func(1, c=3, b=2)"
      ],
      "metadata": {
        "id": "gPA0JK6735MM"
      }
    },
    {
      "cell_type": "code",
      "source": [
        "def func(a, b, c=5):\n",
        "    print(a, b, c)\n",
        "func(1, c=3, b=2)\n",
        "\n",
        "# Ans. When we make function call, order will be positional argument and then keywords arguments. we can pass the keyword arguments in any order we want.\n",
        "#Solution is 1,2,3"
      ],
      "metadata": {
        "colab": {
          "base_uri": "https://localhost:8080/"
        },
        "id": "Ke_7bbAk3532",
        "outputId": "f1557ffd-a546-4ec7-a483-29a397fb6698"
      },
      "execution_count": 22,
      "outputs": [
        {
          "output_type": "stream",
          "name": "stdout",
          "text": [
            "1 2 3\n"
          ]
        }
      ]
    },
    {
      "cell_type": "code",
      "source": [],
      "metadata": {
        "id": "4L36mMEQ38E1"
      },
      "execution_count": null,
      "outputs": []
    },
    {
      "cell_type": "markdown",
      "source": [
        "3. How about this code: what is its result, and why?\n",
        "&gt;&gt;&gt; def func(a, *pargs):\n",
        "print(a, pargs)\n",
        "&gt;&gt;&gt; func(1, 2, 3)"
      ],
      "metadata": {
        "id": "R7YNORTZ4Bpj"
      }
    },
    {
      "cell_type": "code",
      "source": [
        "def func(a, *pargs):\n",
        "    print(a, pargs)\n",
        "func(1, 2, 3)\n",
        "\n",
        "# Ans.The return type of *args parameter is tuple, where as **kargs will be dictionary\n",
        "#solution is = 1,(2,3)"
      ],
      "metadata": {
        "colab": {
          "base_uri": "https://localhost:8080/"
        },
        "id": "PCkFPwBs4CaW",
        "outputId": "17c697b0-e9ee-49e0-8f49-0ae8a5e85548"
      },
      "execution_count": 23,
      "outputs": [
        {
          "output_type": "stream",
          "name": "stdout",
          "text": [
            "1 (2, 3)\n"
          ]
        }
      ]
    },
    {
      "cell_type": "code",
      "source": [],
      "metadata": {
        "id": "x-5rAR2t4Efm"
      },
      "execution_count": null,
      "outputs": []
    },
    {
      "cell_type": "markdown",
      "source": [
        "4. What does this code print, and why?\n",
        "&gt;&gt;&gt; def func(a, **kargs):\n",
        "print(a, kargs)\n",
        "&gt;&gt;&gt; func(a=1, c=3, b=2)"
      ],
      "metadata": {
        "id": "Mu3sFTFc4F0j"
      }
    },
    {
      "cell_type": "code",
      "source": [
        "def func(a, **kargs):\n",
        "    print(a, kargs)\n",
        "func(a=1, c=3, b=2)\n",
        "\n",
        "#Ans. The return type of  **kargs is  dictionary\n",
        "#solution is = 1,{'c':3,'b':2}"
      ],
      "metadata": {
        "colab": {
          "base_uri": "https://localhost:8080/"
        },
        "id": "oRKPtwh04IOO",
        "outputId": "303d0781-340e-43ab-f439-bb39cfd262c9"
      },
      "execution_count": 24,
      "outputs": [
        {
          "output_type": "stream",
          "name": "stdout",
          "text": [
            "1 {'c': 3, 'b': 2}\n"
          ]
        }
      ]
    },
    {
      "cell_type": "code",
      "source": [],
      "metadata": {
        "id": "2xcWe35u4Lgu"
      },
      "execution_count": null,
      "outputs": []
    },
    {
      "cell_type": "markdown",
      "source": [
        "5. What gets printed by this, and explain?\n",
        "&gt;&gt;&gt; def func(a, b, c=8, d=5): print(a, b, c, d)\n",
        "&gt;&gt;&gt; func(1, *(5, 6))"
      ],
      "metadata": {
        "id": "0YUKpS7o4Mqd"
      }
    },
    {
      "cell_type": "code",
      "source": [
        "def func(a, b, c=8, d=5): \n",
        "    print(a, b, c, d)\n",
        "func(1, *(5, 6))\n",
        "\n",
        "# '*' is the unpacking operator and are operators that unpack the values from iterable objects in Python. The single \n",
        "#    asterisk operator * can be used on any iterable that Python provides, while the double asterisk operator ** can only \n",
        " #   be used on dictionaries. In the example the value *(5,6) will be unpacked and will be assigned to b and c and passed \n",
        " #   as arguments, d =5 will taken by defaults are keyword arguments.\n",
        "\n",
        "  #  Solution 1,5,6,5\n",
        "     "
      ],
      "metadata": {
        "colab": {
          "base_uri": "https://localhost:8080/"
        },
        "id": "WbYfbwa_4OvG",
        "outputId": "b121850c-1184-439f-efca-b46148b05623"
      },
      "execution_count": 25,
      "outputs": [
        {
          "output_type": "stream",
          "name": "stdout",
          "text": [
            "1 5 6 5\n"
          ]
        }
      ]
    },
    {
      "cell_type": "code",
      "source": [],
      "metadata": {
        "id": "MLPDomHY4Q52"
      },
      "execution_count": null,
      "outputs": []
    },
    {
      "cell_type": "markdown",
      "source": [
        "6. what is the result of this, and explain?\n",
        "&gt;&gt;&gt; def func(a, b, c): a = 2; b[0] = &#39;x&#39;; c[&#39;a&#39;] = &#39;y&#39;\n",
        "&gt;&gt;&gt; l=1; m=[1]; n={&#39;a&#39;:0}\n",
        "&gt;&gt;&gt; func(l, m, n)"
      ],
      "metadata": {
        "id": "ncyucYSX4R-1"
      }
    },
    {
      "cell_type": "code",
      "source": [
        "\n",
        "def func(a, b, c): \n",
        "    a = 2; b[0] = 'x'; c['a'] = 'y'\n",
        "    \n",
        "l=1; m=[1]; n={'a':0}\n",
        "func(l, m, n)\n",
        "\n",
        "l, m, n\n",
        "\n",
        "# Ans. Here in the code, the list and dict are passed as argument, and those are mutable. Here the list l and parameter b point \n",
        "#to the same list in the memory location where as dict n and c point to the same memory location. Any updates to this \n",
        "#list will update in the memory location\n",
        "\n",
        "#l = 1 , integer values, immutable, m is list, mutable, n is dict, mutable.\n",
        "#output will be = 1,['x'],{'a':'y'}"
      ],
      "metadata": {
        "colab": {
          "base_uri": "https://localhost:8080/"
        },
        "id": "Qhubeo3i4Uue",
        "outputId": "1fe13ffa-11e3-420f-d7cf-21a2778e8c7a"
      },
      "execution_count": 26,
      "outputs": [
        {
          "output_type": "execute_result",
          "data": {
            "text/plain": [
              "(1, ['x'], {'a': 'y'})"
            ]
          },
          "metadata": {},
          "execution_count": 26
        }
      ]
    },
    {
      "cell_type": "code",
      "source": [],
      "metadata": {
        "id": "r_VkKtM34YKG"
      },
      "execution_count": null,
      "outputs": []
    }
  ]
}